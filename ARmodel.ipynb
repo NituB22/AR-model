{
  "cells": [
    {
      "cell_type": "markdown",
      "metadata": {
        "id": "view-in-github",
        "colab_type": "text"
      },
      "source": [
        "<a href=\"https://colab.research.google.com/github/NituB22/AR-model/blob/main/ARmodel.ipynb\" target=\"_parent\"><img src=\"https://colab.research.google.com/assets/colab-badge.svg\" alt=\"Open In Colab\"/></a>"
      ]
    },
    {
      "cell_type": "code",
      "execution_count": 1,
      "metadata": {
        "colab": {
          "base_uri": "https://localhost:8080/",
          "height": 35
        },
        "id": "leZnIISQ3pQC",
        "outputId": "a0541178-f7bb-4e51-ac39-a38cc35934c8"
      },
      "outputs": [
        {
          "output_type": "execute_result",
          "data": {
            "text/plain": [
              "'2.8.2'"
            ],
            "application/vnd.google.colaboratory.intrinsic+json": {
              "type": "string"
            }
          },
          "metadata": {},
          "execution_count": 1
        }
      ],
      "source": [
        "import tensorflow as tf\n",
        "import tensorflow_hub as hub\n",
        "import pandas as pd\n",
        "import numpy as np\n",
        "import matplotlib.pyplot as plt\n",
        "from keras.preprocessing.sequence import pad_sequences\n",
        "from keras import backend as K\n",
        "from keras.models import Model, Input\n",
        "from keras.layers.merge import add\n",
        "from keras.layers import LSTM, Embedding, Dense, TimeDistributed, Dropout, Bidirectional, Lambda\n",
        "from sklearn.metrics import precision_recall_fscore_support, classification_report\n",
        "import random\n",
        "random.seed(10)\n",
        "tf.__version__"
      ]
    },
    {
      "cell_type": "markdown",
      "metadata": {
        "id": "MsZ7CNIs2R2D"
      },
      "source": [
        "Training Set"
      ]
    },
    {
      "cell_type": "code",
      "execution_count": 4,
      "metadata": {
        "colab": {
          "base_uri": "https://localhost:8080/",
          "height": 363
        },
        "id": "ZVFOxzxs3pY7",
        "outputId": "99d6fc09-a9d8-4784-eac8-99fc39c81627"
      },
      "outputs": [
        {
          "output_type": "execute_result",
          "data": {
            "text/plain": [
              "        Unnamed: 0  sent_id   Word      TAG\n",
              "724638      724638    30232      ,  content\n",
              "724639      724639    30232    not  content\n",
              "724640      724640    30232     an  content\n",
              "724641      724641    30232   echo  content\n",
              "724642      724642    30232      ,  content\n",
              "724643      724643    30232      '  content\n",
              "724644      724644    30232     ''  content\n",
              "724645      724645    30232    she   source\n",
              "724646      724646    30232  wrote      cue\n",
              "724647      724647    30232      .        O"
            ],
            "text/html": [
              "\n",
              "  <div id=\"df-1a90e675-1edc-4e95-bcaa-b35a886ef7ab\">\n",
              "    <div class=\"colab-df-container\">\n",
              "      <div>\n",
              "<style scoped>\n",
              "    .dataframe tbody tr th:only-of-type {\n",
              "        vertical-align: middle;\n",
              "    }\n",
              "\n",
              "    .dataframe tbody tr th {\n",
              "        vertical-align: top;\n",
              "    }\n",
              "\n",
              "    .dataframe thead th {\n",
              "        text-align: right;\n",
              "    }\n",
              "</style>\n",
              "<table border=\"1\" class=\"dataframe\">\n",
              "  <thead>\n",
              "    <tr style=\"text-align: right;\">\n",
              "      <th></th>\n",
              "      <th>Unnamed: 0</th>\n",
              "      <th>sent_id</th>\n",
              "      <th>Word</th>\n",
              "      <th>TAG</th>\n",
              "    </tr>\n",
              "  </thead>\n",
              "  <tbody>\n",
              "    <tr>\n",
              "      <th>724638</th>\n",
              "      <td>724638</td>\n",
              "      <td>30232</td>\n",
              "      <td>,</td>\n",
              "      <td>content</td>\n",
              "    </tr>\n",
              "    <tr>\n",
              "      <th>724639</th>\n",
              "      <td>724639</td>\n",
              "      <td>30232</td>\n",
              "      <td>not</td>\n",
              "      <td>content</td>\n",
              "    </tr>\n",
              "    <tr>\n",
              "      <th>724640</th>\n",
              "      <td>724640</td>\n",
              "      <td>30232</td>\n",
              "      <td>an</td>\n",
              "      <td>content</td>\n",
              "    </tr>\n",
              "    <tr>\n",
              "      <th>724641</th>\n",
              "      <td>724641</td>\n",
              "      <td>30232</td>\n",
              "      <td>echo</td>\n",
              "      <td>content</td>\n",
              "    </tr>\n",
              "    <tr>\n",
              "      <th>724642</th>\n",
              "      <td>724642</td>\n",
              "      <td>30232</td>\n",
              "      <td>,</td>\n",
              "      <td>content</td>\n",
              "    </tr>\n",
              "    <tr>\n",
              "      <th>724643</th>\n",
              "      <td>724643</td>\n",
              "      <td>30232</td>\n",
              "      <td>'</td>\n",
              "      <td>content</td>\n",
              "    </tr>\n",
              "    <tr>\n",
              "      <th>724644</th>\n",
              "      <td>724644</td>\n",
              "      <td>30232</td>\n",
              "      <td>''</td>\n",
              "      <td>content</td>\n",
              "    </tr>\n",
              "    <tr>\n",
              "      <th>724645</th>\n",
              "      <td>724645</td>\n",
              "      <td>30232</td>\n",
              "      <td>she</td>\n",
              "      <td>source</td>\n",
              "    </tr>\n",
              "    <tr>\n",
              "      <th>724646</th>\n",
              "      <td>724646</td>\n",
              "      <td>30232</td>\n",
              "      <td>wrote</td>\n",
              "      <td>cue</td>\n",
              "    </tr>\n",
              "    <tr>\n",
              "      <th>724647</th>\n",
              "      <td>724647</td>\n",
              "      <td>30232</td>\n",
              "      <td>.</td>\n",
              "      <td>O</td>\n",
              "    </tr>\n",
              "  </tbody>\n",
              "</table>\n",
              "</div>\n",
              "      <button class=\"colab-df-convert\" onclick=\"convertToInteractive('df-1a90e675-1edc-4e95-bcaa-b35a886ef7ab')\"\n",
              "              title=\"Convert this dataframe to an interactive table.\"\n",
              "              style=\"display:none;\">\n",
              "        \n",
              "  <svg xmlns=\"http://www.w3.org/2000/svg\" height=\"24px\"viewBox=\"0 0 24 24\"\n",
              "       width=\"24px\">\n",
              "    <path d=\"M0 0h24v24H0V0z\" fill=\"none\"/>\n",
              "    <path d=\"M18.56 5.44l.94 2.06.94-2.06 2.06-.94-2.06-.94-.94-2.06-.94 2.06-2.06.94zm-11 1L8.5 8.5l.94-2.06 2.06-.94-2.06-.94L8.5 2.5l-.94 2.06-2.06.94zm10 10l.94 2.06.94-2.06 2.06-.94-2.06-.94-.94-2.06-.94 2.06-2.06.94z\"/><path d=\"M17.41 7.96l-1.37-1.37c-.4-.4-.92-.59-1.43-.59-.52 0-1.04.2-1.43.59L10.3 9.45l-7.72 7.72c-.78.78-.78 2.05 0 2.83L4 21.41c.39.39.9.59 1.41.59.51 0 1.02-.2 1.41-.59l7.78-7.78 2.81-2.81c.8-.78.8-2.07 0-2.86zM5.41 20L4 18.59l7.72-7.72 1.47 1.35L5.41 20z\"/>\n",
              "  </svg>\n",
              "      </button>\n",
              "      \n",
              "  <style>\n",
              "    .colab-df-container {\n",
              "      display:flex;\n",
              "      flex-wrap:wrap;\n",
              "      gap: 12px;\n",
              "    }\n",
              "\n",
              "    .colab-df-convert {\n",
              "      background-color: #E8F0FE;\n",
              "      border: none;\n",
              "      border-radius: 50%;\n",
              "      cursor: pointer;\n",
              "      display: none;\n",
              "      fill: #1967D2;\n",
              "      height: 32px;\n",
              "      padding: 0 0 0 0;\n",
              "      width: 32px;\n",
              "    }\n",
              "\n",
              "    .colab-df-convert:hover {\n",
              "      background-color: #E2EBFA;\n",
              "      box-shadow: 0px 1px 2px rgba(60, 64, 67, 0.3), 0px 1px 3px 1px rgba(60, 64, 67, 0.15);\n",
              "      fill: #174EA6;\n",
              "    }\n",
              "\n",
              "    [theme=dark] .colab-df-convert {\n",
              "      background-color: #3B4455;\n",
              "      fill: #D2E3FC;\n",
              "    }\n",
              "\n",
              "    [theme=dark] .colab-df-convert:hover {\n",
              "      background-color: #434B5C;\n",
              "      box-shadow: 0px 1px 3px 1px rgba(0, 0, 0, 0.15);\n",
              "      filter: drop-shadow(0px 1px 2px rgba(0, 0, 0, 0.3));\n",
              "      fill: #FFFFFF;\n",
              "    }\n",
              "  </style>\n",
              "\n",
              "      <script>\n",
              "        const buttonEl =\n",
              "          document.querySelector('#df-1a90e675-1edc-4e95-bcaa-b35a886ef7ab button.colab-df-convert');\n",
              "        buttonEl.style.display =\n",
              "          google.colab.kernel.accessAllowed ? 'block' : 'none';\n",
              "\n",
              "        async function convertToInteractive(key) {\n",
              "          const element = document.querySelector('#df-1a90e675-1edc-4e95-bcaa-b35a886ef7ab');\n",
              "          const dataTable =\n",
              "            await google.colab.kernel.invokeFunction('convertToInteractive',\n",
              "                                                     [key], {});\n",
              "          if (!dataTable) return;\n",
              "\n",
              "          const docLinkHtml = 'Like what you see? Visit the ' +\n",
              "            '<a target=\"_blank\" href=https://colab.research.google.com/notebooks/data_table.ipynb>data table notebook</a>'\n",
              "            + ' to learn more about interactive tables.';\n",
              "          element.innerHTML = '';\n",
              "          dataTable['output_type'] = 'display_data';\n",
              "          await google.colab.output.renderOutput(dataTable, element);\n",
              "          const docLink = document.createElement('div');\n",
              "          docLink.innerHTML = docLinkHtml;\n",
              "          element.appendChild(docLink);\n",
              "        }\n",
              "      </script>\n",
              "    </div>\n",
              "  </div>\n",
              "  "
            ]
          },
          "metadata": {},
          "execution_count": 4
        }
      ],
      "source": [
        "data = pd.read_csv(\"trainingSet.csv\", encoding=\"latin1\")\n",
        "data = data.fillna(method=\"ffill\")\n",
        "data.tail(10)"
      ]
    },
    {
      "cell_type": "code",
      "execution_count": 9,
      "metadata": {
        "colab": {
          "base_uri": "https://localhost:8080/"
        },
        "id": "Pxez54nq32tM",
        "outputId": "860dff17-3b84-43d6-86eb-39d08c6dd89b"
      },
      "outputs": [
        {
          "output_type": "execute_result",
          "data": {
            "text/plain": [
              "4"
            ]
          },
          "metadata": {},
          "execution_count": 9
        }
      ],
      "source": [
        "tags = list(set(data[\"TAG\"].values))\n",
        "tagCount = len(tags)\n",
        "tagCount"
      ]
    },
    {
      "cell_type": "code",
      "execution_count": 10,
      "metadata": {
        "colab": {
          "base_uri": "https://localhost:8080/"
        },
        "id": "whhPR3o3m2KE",
        "outputId": "8eba0705-3951-46d7-e977-cf4ebb98f7ac"
      },
      "outputs": [
        {
          "output_type": "execute_result",
          "data": {
            "text/plain": [
              "['content', 'source', 'O', 'cue']"
            ]
          },
          "metadata": {},
          "execution_count": 10
        }
      ],
      "source": [
        "tags"
      ]
    },
    {
      "cell_type": "code",
      "execution_count": 11,
      "metadata": {
        "id": "KD-0KBaA32xI"
      },
      "outputs": [],
      "source": [
        "class getSentence(object):\n",
        "    \n",
        "    def __init__(self, data):\n",
        "        self.n_sent = 1\n",
        "        self.data = data\n",
        "        self.empty = False\n",
        "        agg_func = lambda s: [(w, t) for w, t in zip(s[\"Word\"].values.tolist(), s[\"TAG\"].values.tolist())]\n",
        "        self.grouped = self.data.groupby(\"sent_id\").apply(agg_func)\n",
        "        self.sentences = [s for s in self.grouped]\n",
        "    \n",
        "    def get_next(self):\n",
        "        try:\n",
        "            s = self.grouped[\"{}\".format(self.n_sent)]\n",
        "            self.n_sent += 1\n",
        "            return s\n",
        "        except:\n",
        "            return None"
      ]
    },
    {
      "cell_type": "code",
      "execution_count": 12,
      "metadata": {
        "id": "uzhm5f1y320m"
      },
      "outputs": [],
      "source": [
        "getSen = getSentence(data)"
      ]
    },
    {
      "cell_type": "code",
      "execution_count": 15,
      "metadata": {
        "id": "riYSo-G64Bmp"
      },
      "outputs": [],
      "source": [
        "sentences = getSen.sentences"
      ]
    },
    {
      "cell_type": "code",
      "execution_count": 26,
      "metadata": {
        "id": "LbJWHsNK4Bp5"
      },
      "outputs": [],
      "source": [
        "max_len = 50\n",
        "tag2id = {t: i for i, t in enumerate(tags)}"
      ]
    },
    {
      "cell_type": "code",
      "execution_count": 27,
      "metadata": {
        "id": "Rt5ssSr-4ITz"
      },
      "outputs": [],
      "source": [
        "X_tr = [[w[0] for w in s] for s in sentences]"
      ]
    },
    {
      "cell_type": "code",
      "execution_count": 28,
      "metadata": {
        "id": "qHgLNwkj4IXe"
      },
      "outputs": [],
      "source": [
        "new_X = []\n",
        "for seq in X_tr:\n",
        "    new_seq = []\n",
        "    for i in range(max_len):\n",
        "        try:\n",
        "            new_seq.append(seq[i])\n",
        "        except:\n",
        "            new_seq.append(\"__PAD__\")\n",
        "    new_X.append(new_seq)\n",
        "X_tr = new_X"
      ]
    },
    {
      "cell_type": "code",
      "execution_count": 30,
      "metadata": {
        "id": "P9gKAb8W4JK9"
      },
      "outputs": [],
      "source": [
        "y_tr = [[tag2id[w[1]] for w in s] for s in sentences]"
      ]
    },
    {
      "cell_type": "code",
      "execution_count": 41,
      "metadata": {
        "id": "0_s6BRfm4JOY"
      },
      "outputs": [],
      "source": [
        "y_tr = pad_sequences(maxlen=max_len, sequences=y_tr, padding=\"post\", value=tag2id[\"O\"], truncating = 'post')"
      ]
    },
    {
      "cell_type": "markdown",
      "metadata": {
        "id": "jmFEjd_g2K5g"
      },
      "source": [
        "Validation Set"
      ]
    },
    {
      "cell_type": "code",
      "execution_count": 32,
      "metadata": {
        "colab": {
          "base_uri": "https://localhost:8080/",
          "height": 363
        },
        "id": "RYt3NlAM2GbV",
        "outputId": "2dee45f2-ac73-449d-c132-e8a6eaeda53f"
      },
      "outputs": [
        {
          "output_type": "execute_result",
          "data": {
            "text/plain": [
              "       Unnamed: 0  sent_id     Word      TAG\n",
              "78338       78338     3308   Reagan  content\n",
              "78339       78339     3308  himself  content\n",
              "78340       78340     3308    might  content\n",
              "78341       78341     3308     have  content\n",
              "78342       78342     3308  admired  content\n",
              "78343       78343     3308        ,  content\n",
              "78344       78344     3308       ''  content\n",
              "78345       78345     3308  Barabak   source\n",
              "78346       78346     3308    wrote      cue\n",
              "78347       78347     3308        .        O"
            ],
            "text/html": [
              "\n",
              "  <div id=\"df-b9f56a0c-5542-42a1-9a6f-1d72f36bfead\">\n",
              "    <div class=\"colab-df-container\">\n",
              "      <div>\n",
              "<style scoped>\n",
              "    .dataframe tbody tr th:only-of-type {\n",
              "        vertical-align: middle;\n",
              "    }\n",
              "\n",
              "    .dataframe tbody tr th {\n",
              "        vertical-align: top;\n",
              "    }\n",
              "\n",
              "    .dataframe thead th {\n",
              "        text-align: right;\n",
              "    }\n",
              "</style>\n",
              "<table border=\"1\" class=\"dataframe\">\n",
              "  <thead>\n",
              "    <tr style=\"text-align: right;\">\n",
              "      <th></th>\n",
              "      <th>Unnamed: 0</th>\n",
              "      <th>sent_id</th>\n",
              "      <th>Word</th>\n",
              "      <th>TAG</th>\n",
              "    </tr>\n",
              "  </thead>\n",
              "  <tbody>\n",
              "    <tr>\n",
              "      <th>78338</th>\n",
              "      <td>78338</td>\n",
              "      <td>3308</td>\n",
              "      <td>Reagan</td>\n",
              "      <td>content</td>\n",
              "    </tr>\n",
              "    <tr>\n",
              "      <th>78339</th>\n",
              "      <td>78339</td>\n",
              "      <td>3308</td>\n",
              "      <td>himself</td>\n",
              "      <td>content</td>\n",
              "    </tr>\n",
              "    <tr>\n",
              "      <th>78340</th>\n",
              "      <td>78340</td>\n",
              "      <td>3308</td>\n",
              "      <td>might</td>\n",
              "      <td>content</td>\n",
              "    </tr>\n",
              "    <tr>\n",
              "      <th>78341</th>\n",
              "      <td>78341</td>\n",
              "      <td>3308</td>\n",
              "      <td>have</td>\n",
              "      <td>content</td>\n",
              "    </tr>\n",
              "    <tr>\n",
              "      <th>78342</th>\n",
              "      <td>78342</td>\n",
              "      <td>3308</td>\n",
              "      <td>admired</td>\n",
              "      <td>content</td>\n",
              "    </tr>\n",
              "    <tr>\n",
              "      <th>78343</th>\n",
              "      <td>78343</td>\n",
              "      <td>3308</td>\n",
              "      <td>,</td>\n",
              "      <td>content</td>\n",
              "    </tr>\n",
              "    <tr>\n",
              "      <th>78344</th>\n",
              "      <td>78344</td>\n",
              "      <td>3308</td>\n",
              "      <td>''</td>\n",
              "      <td>content</td>\n",
              "    </tr>\n",
              "    <tr>\n",
              "      <th>78345</th>\n",
              "      <td>78345</td>\n",
              "      <td>3308</td>\n",
              "      <td>Barabak</td>\n",
              "      <td>source</td>\n",
              "    </tr>\n",
              "    <tr>\n",
              "      <th>78346</th>\n",
              "      <td>78346</td>\n",
              "      <td>3308</td>\n",
              "      <td>wrote</td>\n",
              "      <td>cue</td>\n",
              "    </tr>\n",
              "    <tr>\n",
              "      <th>78347</th>\n",
              "      <td>78347</td>\n",
              "      <td>3308</td>\n",
              "      <td>.</td>\n",
              "      <td>O</td>\n",
              "    </tr>\n",
              "  </tbody>\n",
              "</table>\n",
              "</div>\n",
              "      <button class=\"colab-df-convert\" onclick=\"convertToInteractive('df-b9f56a0c-5542-42a1-9a6f-1d72f36bfead')\"\n",
              "              title=\"Convert this dataframe to an interactive table.\"\n",
              "              style=\"display:none;\">\n",
              "        \n",
              "  <svg xmlns=\"http://www.w3.org/2000/svg\" height=\"24px\"viewBox=\"0 0 24 24\"\n",
              "       width=\"24px\">\n",
              "    <path d=\"M0 0h24v24H0V0z\" fill=\"none\"/>\n",
              "    <path d=\"M18.56 5.44l.94 2.06.94-2.06 2.06-.94-2.06-.94-.94-2.06-.94 2.06-2.06.94zm-11 1L8.5 8.5l.94-2.06 2.06-.94-2.06-.94L8.5 2.5l-.94 2.06-2.06.94zm10 10l.94 2.06.94-2.06 2.06-.94-2.06-.94-.94-2.06-.94 2.06-2.06.94z\"/><path d=\"M17.41 7.96l-1.37-1.37c-.4-.4-.92-.59-1.43-.59-.52 0-1.04.2-1.43.59L10.3 9.45l-7.72 7.72c-.78.78-.78 2.05 0 2.83L4 21.41c.39.39.9.59 1.41.59.51 0 1.02-.2 1.41-.59l7.78-7.78 2.81-2.81c.8-.78.8-2.07 0-2.86zM5.41 20L4 18.59l7.72-7.72 1.47 1.35L5.41 20z\"/>\n",
              "  </svg>\n",
              "      </button>\n",
              "      \n",
              "  <style>\n",
              "    .colab-df-container {\n",
              "      display:flex;\n",
              "      flex-wrap:wrap;\n",
              "      gap: 12px;\n",
              "    }\n",
              "\n",
              "    .colab-df-convert {\n",
              "      background-color: #E8F0FE;\n",
              "      border: none;\n",
              "      border-radius: 50%;\n",
              "      cursor: pointer;\n",
              "      display: none;\n",
              "      fill: #1967D2;\n",
              "      height: 32px;\n",
              "      padding: 0 0 0 0;\n",
              "      width: 32px;\n",
              "    }\n",
              "\n",
              "    .colab-df-convert:hover {\n",
              "      background-color: #E2EBFA;\n",
              "      box-shadow: 0px 1px 2px rgba(60, 64, 67, 0.3), 0px 1px 3px 1px rgba(60, 64, 67, 0.15);\n",
              "      fill: #174EA6;\n",
              "    }\n",
              "\n",
              "    [theme=dark] .colab-df-convert {\n",
              "      background-color: #3B4455;\n",
              "      fill: #D2E3FC;\n",
              "    }\n",
              "\n",
              "    [theme=dark] .colab-df-convert:hover {\n",
              "      background-color: #434B5C;\n",
              "      box-shadow: 0px 1px 3px 1px rgba(0, 0, 0, 0.15);\n",
              "      filter: drop-shadow(0px 1px 2px rgba(0, 0, 0, 0.3));\n",
              "      fill: #FFFFFF;\n",
              "    }\n",
              "  </style>\n",
              "\n",
              "      <script>\n",
              "        const buttonEl =\n",
              "          document.querySelector('#df-b9f56a0c-5542-42a1-9a6f-1d72f36bfead button.colab-df-convert');\n",
              "        buttonEl.style.display =\n",
              "          google.colab.kernel.accessAllowed ? 'block' : 'none';\n",
              "\n",
              "        async function convertToInteractive(key) {\n",
              "          const element = document.querySelector('#df-b9f56a0c-5542-42a1-9a6f-1d72f36bfead');\n",
              "          const dataTable =\n",
              "            await google.colab.kernel.invokeFunction('convertToInteractive',\n",
              "                                                     [key], {});\n",
              "          if (!dataTable) return;\n",
              "\n",
              "          const docLinkHtml = 'Like what you see? Visit the ' +\n",
              "            '<a target=\"_blank\" href=https://colab.research.google.com/notebooks/data_table.ipynb>data table notebook</a>'\n",
              "            + ' to learn more about interactive tables.';\n",
              "          element.innerHTML = '';\n",
              "          dataTable['output_type'] = 'display_data';\n",
              "          await google.colab.output.renderOutput(dataTable, element);\n",
              "          const docLink = document.createElement('div');\n",
              "          docLink.innerHTML = docLinkHtml;\n",
              "          element.appendChild(docLink);\n",
              "        }\n",
              "      </script>\n",
              "    </div>\n",
              "  </div>\n",
              "  "
            ]
          },
          "metadata": {},
          "execution_count": 32
        }
      ],
      "source": [
        "data = pd.read_csv(\"validationSet.csv\", encoding=\"latin1\")\n",
        "data = data.fillna(method=\"ffill\")\n",
        "data.tail(10)"
      ]
    },
    {
      "cell_type": "code",
      "execution_count": 37,
      "metadata": {
        "id": "mHnwGmvS2haV"
      },
      "outputs": [],
      "source": [
        "getSen = getSentence(data)\n",
        "sentences = getSen.sentences"
      ]
    },
    {
      "cell_type": "code",
      "execution_count": 38,
      "metadata": {
        "id": "BDjiVIpo27Ok"
      },
      "outputs": [],
      "source": [
        "X_te = [[w[0] for w in s] for s in sentences]"
      ]
    },
    {
      "cell_type": "code",
      "execution_count": 39,
      "metadata": {
        "id": "QCZ3uBpD27R4"
      },
      "outputs": [],
      "source": [
        "new_X = []\n",
        "for seq in X_te:\n",
        "    new_seq = []\n",
        "    for i in range(max_len):\n",
        "        try:\n",
        "            new_seq.append(seq[i])\n",
        "        except:\n",
        "            new_seq.append(\"__PAD__\")\n",
        "    new_X.append(new_seq)\n",
        "X_te = new_X"
      ]
    },
    {
      "cell_type": "code",
      "execution_count": 40,
      "metadata": {
        "id": "SOkgqrWY27YS"
      },
      "outputs": [],
      "source": [
        "y_te = [[tag2id[w[1]] for w in s] for s in sentences]"
      ]
    },
    {
      "cell_type": "code",
      "execution_count": 42,
      "metadata": {
        "id": "IwmVwL1-27bW"
      },
      "outputs": [],
      "source": [
        "y_te = pad_sequences(maxlen=max_len, sequences=y_te, padding=\"post\", value=tag2id[\"O\"], truncating = 'post')"
      ]
    },
    {
      "cell_type": "code",
      "execution_count": 43,
      "metadata": {
        "id": "dehbXJwJ4iN3"
      },
      "outputs": [],
      "source": [
        "batch_size = 32"
      ]
    },
    {
      "cell_type": "code",
      "execution_count": 44,
      "metadata": {
        "id": "2cJZkt-t4iUH",
        "colab": {
          "base_uri": "https://localhost:8080/"
        },
        "outputId": "8a7c2158-74f7-4e7a-d089-e89644f57d6d"
      },
      "outputs": [
        {
          "output_type": "stream",
          "name": "stderr",
          "text": [
            "WARNING:tensorflow:From /usr/local/lib/python3.7/dist-packages/tensorflow/python/compat/v2_compat.py:107: disable_resource_variables (from tensorflow.python.ops.variable_scope) is deprecated and will be removed in a future version.\n",
            "Instructions for updating:\n",
            "non-resource variables are not supported in the long term\n"
          ]
        }
      ],
      "source": [
        "import tensorflow.compat.v1 as tf\n",
        "tf.disable_v2_behavior()\n",
        "\n",
        "sess = tf.Session()\n",
        "K.set_session(sess)"
      ]
    },
    {
      "cell_type": "markdown",
      "metadata": {
        "id": "s_BjWXf24VCM"
      },
      "source": [
        "Elmo Embedding"
      ]
    },
    {
      "cell_type": "code",
      "execution_count": 45,
      "metadata": {
        "id": "hAv3byjk4iXB"
      },
      "outputs": [],
      "source": [
        "elmo_model = hub.Module(\"https://tfhub.dev/google/elmo/2\", trainable=True)\n",
        "sess.run(tf.global_variables_initializer())\n",
        "sess.run(tf.tables_initializer())"
      ]
    },
    {
      "cell_type": "code",
      "execution_count": 46,
      "metadata": {
        "id": "UBlMbpOu4ibB"
      },
      "outputs": [],
      "source": [
        "def ElmoEmbedding(x):\n",
        "    return elmo_model(inputs={\n",
        "                            \"tokens\": tf.squeeze(tf.cast(x, tf.string)),\n",
        "                            \"sequence_len\": tf.constant(batch_size*[max_len])\n",
        "                      },\n",
        "                      signature=\"tokens\",\n",
        "                      as_dict=True)[\"elmo\"]"
      ]
    },
    {
      "cell_type": "markdown",
      "metadata": {
        "id": "6al8dopN4ZhN"
      },
      "source": [
        "Building deep learning neural network"
      ]
    },
    {
      "cell_type": "code",
      "execution_count": 48,
      "metadata": {
        "colab": {
          "base_uri": "https://localhost:8080/"
        },
        "id": "4rrHEHxh4wy5",
        "outputId": "86cc7e95-6173-48c3-f54c-b995a6023b99"
      },
      "outputs": [
        {
          "output_type": "stream",
          "name": "stderr",
          "text": [
            "WARNING:tensorflow:Layer lstm_2 will not use cuDNN kernels since it doesn't meet the criteria. It will use a generic GPU kernel as fallback when running on GPU.\n",
            "WARNING:tensorflow:Layer lstm_2 will not use cuDNN kernels since it doesn't meet the criteria. It will use a generic GPU kernel as fallback when running on GPU.\n",
            "WARNING:tensorflow:Layer lstm_2 will not use cuDNN kernels since it doesn't meet the criteria. It will use a generic GPU kernel as fallback when running on GPU.\n",
            "WARNING:tensorflow:Layer lstm_3 will not use cuDNN kernels since it doesn't meet the criteria. It will use a generic GPU kernel as fallback when running on GPU.\n",
            "WARNING:tensorflow:Layer lstm_3 will not use cuDNN kernels since it doesn't meet the criteria. It will use a generic GPU kernel as fallback when running on GPU.\n",
            "WARNING:tensorflow:Layer lstm_3 will not use cuDNN kernels since it doesn't meet the criteria. It will use a generic GPU kernel as fallback when running on GPU.\n"
          ]
        }
      ],
      "source": [
        "input_text = Input(shape=(max_len,), dtype=tf.string)\n",
        "embedding = Lambda(ElmoEmbedding, output_shape=(None, 1024))(input_text)\n",
        "x = Bidirectional(LSTM(units=512, return_sequences=True,\n",
        "                       recurrent_dropout=0.2, dropout=0.2))(embedding)\n",
        "x_rnn = Bidirectional(LSTM(units=512, return_sequences=True,\n",
        "                           recurrent_dropout=0.2, dropout=0.2))(x)\n",
        "x = add([x, x_rnn])  # residual connection to the first biLSTM\n",
        "out = TimeDistributed(Dense(tagCount, activation=\"softmax\"))(x)"
      ]
    },
    {
      "cell_type": "code",
      "execution_count": 49,
      "metadata": {
        "id": "-1IKkPd84w2J"
      },
      "outputs": [],
      "source": [
        "model = Model(input_text, out)"
      ]
    },
    {
      "cell_type": "code",
      "execution_count": 50,
      "metadata": {
        "id": "Cx-utQVp4w5E"
      },
      "outputs": [],
      "source": [
        "model.compile(optimizer=\"adam\", loss=\"sparse_categorical_crossentropy\", metrics=[\"accuracy\"])"
      ]
    },
    {
      "cell_type": "code",
      "source": [
        "# model.summary()"
      ],
      "metadata": {
        "id": "lVVJwx3e0s61"
      },
      "execution_count": null,
      "outputs": []
    },
    {
      "cell_type": "code",
      "execution_count": 53,
      "metadata": {
        "id": "dn8sajrZ4w8P"
      },
      "outputs": [],
      "source": [
        "X_tr, X_val = X_tr[:944*batch_size], X_te[-103*batch_size:]\n",
        "y_tr, y_val = y_tr[:944*batch_size], y_te[-103*batch_size:]\n",
        "y_tr = y_tr.reshape(y_tr.shape[0], y_tr.shape[1], 1)\n",
        "y_val = y_val.reshape(y_val.shape[0], y_val.shape[1], 1)"
      ]
    },
    {
      "cell_type": "code",
      "execution_count": 56,
      "metadata": {
        "colab": {
          "base_uri": "https://localhost:8080/"
        },
        "id": "F93wY09A4_mh",
        "outputId": "119a8c09-9468-49a3-f38f-e1dfe367e016"
      },
      "outputs": [
        {
          "output_type": "stream",
          "name": "stdout",
          "text": [
            "Train on 30208 samples, validate on 3296 samples\n",
            "Epoch 1/5\n",
            "30208/30208 [==============================] - ETA: 0s - loss: 0.2263 - acc: 0.9122"
          ]
        },
        {
          "output_type": "stream",
          "name": "stderr",
          "text": [
            "/usr/local/lib/python3.7/dist-packages/keras/engine/training_v1.py:2057: UserWarning: `Model.state_updates` will be removed in a future version. This property should not be used in TensorFlow 2.0, as `updates` are applied automatically.\n",
            "  updates = self.state_updates\n"
          ]
        },
        {
          "output_type": "stream",
          "name": "stdout",
          "text": [
            "\b\b\b\b\b\b\b\b\b\b\b\b\b\b\b\b\b\b\b\b\b\b\b\b\b\b\b\b\b\b\b\b\b\b\b\b\b\b\b\b\b\b\b\b\b\b\b\b\b\b\b\b\b\b\b\b\b\b\b\b\b\b\b\b\b\b\b\b\b\b\b\b\b\b\b\b\b\b\b\b\b\b\b\r30208/30208 [==============================] - 384s 13ms/sample - loss: 0.2263 - acc: 0.9122 - val_loss: 0.1785 - val_acc: 0.9324\n",
            "Epoch 2/5\n",
            "30208/30208 [==============================] - 371s 12ms/sample - loss: 0.1676 - acc: 0.9361 - val_loss: 0.1725 - val_acc: 0.9333\n",
            "Epoch 3/5\n",
            "30208/30208 [==============================] - 371s 12ms/sample - loss: 0.1430 - acc: 0.9456 - val_loss: 0.1733 - val_acc: 0.9332\n",
            "Epoch 4/5\n",
            "30208/30208 [==============================] - 371s 12ms/sample - loss: 0.1184 - acc: 0.9557 - val_loss: 0.1788 - val_acc: 0.9347\n",
            "Epoch 5/5\n",
            "30208/30208 [==============================] - 370s 12ms/sample - loss: 0.0933 - acc: 0.9654 - val_loss: 0.1957 - val_acc: 0.9334\n"
          ]
        }
      ],
      "source": [
        "history = model.fit(np.array(X_tr), y_tr, validation_data=(np.array(X_val), y_val),\n",
        "                    batch_size=batch_size, epochs=5, verbose=1)"
      ]
    },
    {
      "cell_type": "code",
      "execution_count": 57,
      "metadata": {
        "id": "C_fF3S9d4_qB"
      },
      "outputs": [],
      "source": [
        "hist = pd.DataFrame(history.history)"
      ]
    },
    {
      "cell_type": "code",
      "execution_count": 58,
      "metadata": {
        "colab": {
          "base_uri": "https://localhost:8080/",
          "height": 735
        },
        "id": "ZHZUvsex5IBo",
        "outputId": "53a1bc9e-ccf1-44c1-c7f8-d864db9861e2"
      },
      "outputs": [
        {
          "output_type": "stream",
          "name": "stderr",
          "text": [
            "WARNING:matplotlib.legend:No handles with labels found to put in legend.\n"
          ]
        },
        {
          "output_type": "display_data",
          "data": {
            "text/plain": [
              "<Figure size 864x864 with 1 Axes>"
            ],
            "image/png": "[encoded data removed]"
          },
          "metadata": {}
        }
      ],
      "source": [
        "\n",
        "plt.figure(figsize=(12,12))\n",
        "plt.plot(hist[\"acc\"])\n",
        "plt.plot(hist[\"val_acc\"])\n",
        "plt.title(\"Learning curves\")\n",
        "plt.legend()\n",
        "plt.show()"
      ]
    },
    {
      "cell_type": "markdown",
      "source": [
        "Test Set"
      ],
      "metadata": {
        "id": "9FEF5umJZrI3"
      }
    },
    {
      "cell_type": "code",
      "execution_count": 91,
      "metadata": {
        "id": "qdMBClxugUzS",
        "outputId": "3f241f4a-b136-4f3f-8261-d3da83dfcb75",
        "colab": {
          "base_uri": "https://localhost:8080/",
          "height": 363
        }
      },
      "outputs": [
        {
          "output_type": "execute_result",
          "data": {
            "text/plain": [
              "       Unnamed: 0  sent_id     Word      TAG\n",
              "73360       73360     3022       ``  content\n",
              "73361       73361     3022      And  content\n",
              "73362       73362     3022        I  content\n",
              "73363       73363     3022     look  content\n",
              "73364       73364     3022       so  content\n",
              "73365       73365     3022  forward  content\n",
              "73366       73366     3022       to  content\n",
              "73367       73367     3022       it  content\n",
              "73368       73368     3022        .  content\n",
              "73369       73369     3022       ''  content"
            ],
            "text/html": [
              "\n",
              "  <div id=\"df-34c9dc26-233a-415b-aa5a-93852ef48c67\">\n",
              "    <div class=\"colab-df-container\">\n",
              "      <div>\n",
              "<style scoped>\n",
              "    .dataframe tbody tr th:only-of-type {\n",
              "        vertical-align: middle;\n",
              "    }\n",
              "\n",
              "    .dataframe tbody tr th {\n",
              "        vertical-align: top;\n",
              "    }\n",
              "\n",
              "    .dataframe thead th {\n",
              "        text-align: right;\n",
              "    }\n",
              "</style>\n",
              "<table border=\"1\" class=\"dataframe\">\n",
              "  <thead>\n",
              "    <tr style=\"text-align: right;\">\n",
              "      <th></th>\n",
              "      <th>Unnamed: 0</th>\n",
              "      <th>sent_id</th>\n",
              "      <th>Word</th>\n",
              "      <th>TAG</th>\n",
              "    </tr>\n",
              "  </thead>\n",
              "  <tbody>\n",
              "    <tr>\n",
              "      <th>73360</th>\n",
              "      <td>73360</td>\n",
              "      <td>3022</td>\n",
              "      <td>``</td>\n",
              "      <td>content</td>\n",
              "    </tr>\n",
              "    <tr>\n",
              "      <th>73361</th>\n",
              "      <td>73361</td>\n",
              "      <td>3022</td>\n",
              "      <td>And</td>\n",
              "      <td>content</td>\n",
              "    </tr>\n",
              "    <tr>\n",
              "      <th>73362</th>\n",
              "      <td>73362</td>\n",
              "      <td>3022</td>\n",
              "      <td>I</td>\n",
              "      <td>content</td>\n",
              "    </tr>\n",
              "    <tr>\n",
              "      <th>73363</th>\n",
              "      <td>73363</td>\n",
              "      <td>3022</td>\n",
              "      <td>look</td>\n",
              "      <td>content</td>\n",
              "    </tr>\n",
              "    <tr>\n",
              "      <th>73364</th>\n",
              "      <td>73364</td>\n",
              "      <td>3022</td>\n",
              "      <td>so</td>\n",
              "      <td>content</td>\n",
              "    </tr>\n",
              "    <tr>\n",
              "      <th>73365</th>\n",
              "      <td>73365</td>\n",
              "      <td>3022</td>\n",
              "      <td>forward</td>\n",
              "      <td>content</td>\n",
              "    </tr>\n",
              "    <tr>\n",
              "      <th>73366</th>\n",
              "      <td>73366</td>\n",
              "      <td>3022</td>\n",
              "      <td>to</td>\n",
              "      <td>content</td>\n",
              "    </tr>\n",
              "    <tr>\n",
              "      <th>73367</th>\n",
              "      <td>73367</td>\n",
              "      <td>3022</td>\n",
              "      <td>it</td>\n",
              "      <td>content</td>\n",
              "    </tr>\n",
              "    <tr>\n",
              "      <th>73368</th>\n",
              "      <td>73368</td>\n",
              "      <td>3022</td>\n",
              "      <td>.</td>\n",
              "      <td>content</td>\n",
              "    </tr>\n",
              "    <tr>\n",
              "      <th>73369</th>\n",
              "      <td>73369</td>\n",
              "      <td>3022</td>\n",
              "      <td>''</td>\n",
              "      <td>content</td>\n",
              "    </tr>\n",
              "  </tbody>\n",
              "</table>\n",
              "</div>\n",
              "      <button class=\"colab-df-convert\" onclick=\"convertToInteractive('df-34c9dc26-233a-415b-aa5a-93852ef48c67')\"\n",
              "              title=\"Convert this dataframe to an interactive table.\"\n",
              "              style=\"display:none;\">\n",
              "        \n",
              "  <svg xmlns=\"http://www.w3.org/2000/svg\" height=\"24px\"viewBox=\"0 0 24 24\"\n",
              "       width=\"24px\">\n",
              "    <path d=\"M0 0h24v24H0V0z\" fill=\"none\"/>\n",
              "    <path d=\"M18.56 5.44l.94 2.06.94-2.06 2.06-.94-2.06-.94-.94-2.06-.94 2.06-2.06.94zm-11 1L8.5 8.5l.94-2.06 2.06-.94-2.06-.94L8.5 2.5l-.94 2.06-2.06.94zm10 10l.94 2.06.94-2.06 2.06-.94-2.06-.94-.94-2.06-.94 2.06-2.06.94z\"/><path d=\"M17.41 7.96l-1.37-1.37c-.4-.4-.92-.59-1.43-.59-.52 0-1.04.2-1.43.59L10.3 9.45l-7.72 7.72c-.78.78-.78 2.05 0 2.83L4 21.41c.39.39.9.59 1.41.59.51 0 1.02-.2 1.41-.59l7.78-7.78 2.81-2.81c.8-.78.8-2.07 0-2.86zM5.41 20L4 18.59l7.72-7.72 1.47 1.35L5.41 20z\"/>\n",
              "  </svg>\n",
              "      </button>\n",
              "      \n",
              "  <style>\n",
              "    .colab-df-container {\n",
              "      display:flex;\n",
              "      flex-wrap:wrap;\n",
              "      gap: 12px;\n",
              "    }\n",
              "\n",
              "    .colab-df-convert {\n",
              "      background-color: #E8F0FE;\n",
              "      border: none;\n",
              "      border-radius: 50%;\n",
              "      cursor: pointer;\n",
              "      display: none;\n",
              "      fill: #1967D2;\n",
              "      height: 32px;\n",
              "      padding: 0 0 0 0;\n",
              "      width: 32px;\n",
              "    }\n",
              "\n",
              "    .colab-df-convert:hover {\n",
              "      background-color: #E2EBFA;\n",
              "      box-shadow: 0px 1px 2px rgba(60, 64, 67, 0.3), 0px 1px 3px 1px rgba(60, 64, 67, 0.15);\n",
              "      fill: #174EA6;\n",
              "    }\n",
              "\n",
              "    [theme=dark] .colab-df-convert {\n",
              "      background-color: #3B4455;\n",
              "      fill: #D2E3FC;\n",
              "    }\n",
              "\n",
              "    [theme=dark] .colab-df-convert:hover {\n",
              "      background-color: #434B5C;\n",
              "      box-shadow: 0px 1px 3px 1px rgba(0, 0, 0, 0.15);\n",
              "      filter: drop-shadow(0px 1px 2px rgba(0, 0, 0, 0.3));\n",
              "      fill: #FFFFFF;\n",
              "    }\n",
              "  </style>\n",
              "\n",
              "      <script>\n",
              "        const buttonEl =\n",
              "          document.querySelector('#df-34c9dc26-233a-415b-aa5a-93852ef48c67 button.colab-df-convert');\n",
              "        buttonEl.style.display =\n",
              "          google.colab.kernel.accessAllowed ? 'block' : 'none';\n",
              "\n",
              "        async function convertToInteractive(key) {\n",
              "          const element = document.querySelector('#df-34c9dc26-233a-415b-aa5a-93852ef48c67');\n",
              "          const dataTable =\n",
              "            await google.colab.kernel.invokeFunction('convertToInteractive',\n",
              "                                                     [key], {});\n",
              "          if (!dataTable) return;\n",
              "\n",
              "          const docLinkHtml = 'Like what you see? Visit the ' +\n",
              "            '<a target=\"_blank\" href=https://colab.research.google.com/notebooks/data_table.ipynb>data table notebook</a>'\n",
              "            + ' to learn more about interactive tables.';\n",
              "          element.innerHTML = '';\n",
              "          dataTable['output_type'] = 'display_data';\n",
              "          await google.colab.output.renderOutput(dataTable, element);\n",
              "          const docLink = document.createElement('div');\n",
              "          docLink.innerHTML = docLinkHtml;\n",
              "          element.appendChild(docLink);\n",
              "        }\n",
              "      </script>\n",
              "    </div>\n",
              "  </div>\n",
              "  "
            ]
          },
          "metadata": {},
          "execution_count": 91
        }
      ],
      "source": [
        "data = pd.read_csv(\"testSet.csv\", encoding=\"latin1\")\n",
        "data = data.fillna(method=\"ffill\")\n",
        "data.tail(10)"
      ]
    },
    {
      "cell_type": "code",
      "execution_count": 92,
      "metadata": {
        "id": "xCO1xaJ5gUzS"
      },
      "outputs": [],
      "source": [
        "getSen = getSentence(data)\n",
        "sentences = getSen.sentences"
      ]
    },
    {
      "cell_type": "code",
      "execution_count": 93,
      "metadata": {
        "id": "grm-T3fogUzT"
      },
      "outputs": [],
      "source": [
        "X_test = [[w[0] for w in s] for s in sentences]"
      ]
    },
    {
      "cell_type": "code",
      "execution_count": 95,
      "metadata": {
        "id": "2_JuTk3FgUzT"
      },
      "outputs": [],
      "source": [
        "new_X = []\n",
        "for seq in X_test:\n",
        "    new_seq = []\n",
        "    for i in range(max_len):\n",
        "        try:\n",
        "            new_seq.append(seq[i])\n",
        "        except:\n",
        "            new_seq.append(\"__PAD__\")\n",
        "    new_X.append(new_seq)\n",
        "X_test = new_X"
      ]
    },
    {
      "cell_type": "code",
      "execution_count": 97,
      "metadata": {
        "id": "D8towKMEgUzT"
      },
      "outputs": [],
      "source": [
        "y_test = [[tag2id[w[1]] for w in s] for s in sentences]"
      ]
    },
    {
      "cell_type": "code",
      "execution_count": 99,
      "metadata": {
        "id": "EmGLDrgtgUzU"
      },
      "outputs": [],
      "source": [
        "y_test = pad_sequences(maxlen=max_len, sequences=y_test, padding=\"post\", value=tag2id[\"O\"], truncating = 'post')"
      ]
    },
    {
      "cell_type": "code",
      "execution_count": 102,
      "metadata": {
        "id": "rTgWCxIygUzV",
        "outputId": "38865e75-2bc6-432e-cb37-224d6afa0764",
        "colab": {
          "base_uri": "https://localhost:8080/"
        }
      },
      "outputs": [
        {
          "output_type": "stream",
          "name": "stdout",
          "text": [
            "sent_idWord                          @#armoTrue           @#armo(Pred)\n",
            "==============================\n"
          ]
        }
      ],
      "source": [
        "fileToWrite = open(\"test_output_wSentid\",\"a\")\n",
        "fileToWrite.write(\"{:6}{:30}@#armo{:15}@#armo({})\".format(\"sent_id\",\"Word\", \"True\", \"Pred\"))\n",
        "fileToWrite.write(\"\\n\")\n",
        "fileToWrite.write(\"=\"*30)\n",
        "fileToWrite.write(\"\\n\")\n",
        "\n",
        "i=0\n",
        "print(\"{:6}{:30}@#armo{:15}@#armo({})\".format(\"sent_id\",\"Word\", \"True\", \"Pred\"))\n",
        "print(\"=\"*30)\n",
        "while i<3022:\n",
        "  p = model.predict(np.array(X_test[i:i+batch_size]))[0]\n",
        "  p = np.argmax(p, axis=-1)\n",
        "  for w, true, pred in zip(X_test[i], y_test[i], p):\n",
        "    if w != \"__PAD__\":\n",
        "      # print(\"{:20}:{:8} ({})\".format(w, tags[true], tags[pred]))\n",
        "      fileToWrite.write(\"{:6} {:30}@#armo{:15}@#armo({})\".format(i+1, w, tags[true], tags[pred]))\n",
        "      fileToWrite.write(\"\\n\")\n",
        "  fileToWrite.write(\"=\"*30)\n",
        "  fileToWrite.write(\"\\n\") \n",
        "  i = i+1\n",
        "fileToWrite.close()"
      ]
    },
    {
      "cell_type": "code",
      "execution_count": 103,
      "metadata": {
        "id": "rr-pJTgJgUzV",
        "outputId": "348dcbff-0666-490f-c66f-a4a714f809f8",
        "colab": {
          "base_uri": "https://localhost:8080/"
        }
      },
      "outputs": [
        {
          "output_type": "stream",
          "name": "stdout",
          "text": [
            "sent_idWord                          @#armoTrue           @#armo(Pred)\n",
            "==============================\n",
            "     1 Washington                    @#armosource         @#armo(source)\n",
            "     1 Post                          @#armosource         @#armo(source)\n",
            "     1 backs                         @#armocue            @#armo(cue)\n",
            "     1 Hillary                       @#armocontent        @#armo(content)\n",
            "     1 Clinton                       @#armocontent        @#armo(content)\n",
            "     1 for                           @#armocontent        @#armo(content)\n",
            "     1 president                     @#armocontent        @#armo(content)\n",
            "     1 .                             @#armoO              @#armo(O)\n",
            "==============================\n",
            "     2 Washington                    @#armoO              @#armo(O)\n",
            "     2 (                             @#armoO              @#armo(O)\n",
            "     2 AFP                           @#armoO              @#armo(O)\n",
            "     2 )                             @#armoO              @#armo(O)\n",
            "     2 --                            @#armoO              @#armo(O)\n",
            "     2 The                           @#armoO              @#armo(source)\n",
            "     2 Washington                    @#armoO              @#armo(source)\n",
            "     2 Post                          @#armoO              @#armo(source)\n",
            "     2 on                            @#armoO              @#armo(O)\n",
            "     2 Thursday                      @#armoO              @#armo(O)\n",
            "     2 became                        @#armoO              @#armo(cue)\n",
            "     2 the                           @#armosource         @#armo(source)\n",
            "     2 latest                        @#armosource         @#armo(source)\n",
            "     2 US                            @#armosource         @#armo(source)\n",
            "     2 newspaper                     @#armosource         @#armo(source)\n",
            "     2 to                            @#armocue            @#armo(cue)\n",
            "     2 emphatically                  @#armocue            @#armo(cue)\n",
            "     2 endorse                       @#armocue            @#armo(cue)\n",
            "     2 Hillary                       @#armocontent        @#armo(content)\n"
          ]
        }
      ],
      "source": [
        "!head -n 30 test_output_wSentid"
      ]
    },
    {
      "cell_type": "code",
      "execution_count": 104,
      "metadata": {
        "id": "QIYVciibgUzV"
      },
      "outputs": [],
      "source": [
        "fileRead = open(\"test_output_wSentid\", \"r\")"
      ]
    },
    {
      "cell_type": "code",
      "execution_count": 105,
      "metadata": {
        "id": "eMNyFTgpgUzW"
      },
      "outputs": [],
      "source": [
        "f2 = fileRead.readlines()"
      ]
    },
    {
      "cell_type": "code",
      "execution_count": 106,
      "metadata": {
        "id": "0oOay3lXgUzW",
        "outputId": "21444d31-ab5d-43fb-8487-4b6a8187f345",
        "colab": {
          "base_uri": "https://localhost:8080/"
        }
      },
      "outputs": [
        {
          "output_type": "execute_result",
          "data": {
            "text/plain": [
              "75323"
            ]
          },
          "metadata": {},
          "execution_count": 106
        }
      ],
      "source": [
        "len(f2)"
      ]
    },
    {
      "cell_type": "code",
      "execution_count": 107,
      "metadata": {
        "id": "2psls_ibgUzX",
        "outputId": "1ba8f18e-1228-4c4a-e44d-617df0b18315",
        "colab": {
          "base_uri": "https://localhost:8080/"
        }
      },
      "outputs": [
        {
          "output_type": "stream",
          "name": "stdout",
          "text": [
            "Total sentences= 3022\n",
            "Exact words match sentences =1833\n",
            "Exact matching sentences Id list\n",
            "[1, 3, 5, 8, 14, 15, 16, 17, 18, 19, 20, 21, 22, 23, 25, 26, 28, 29, 30, 31]\n",
            "Number of sentences with all O = 469\n",
            "All O sentence IDs\n",
            "[42, 58, 63, 67, 113, 115, 116, 120, 127, 131]\n",
            "Attribution relations sentence IDs\n",
            "[1, 3, 5, 8, 14, 15, 16, 17, 18, 19]\n"
          ]
        }
      ],
      "source": [
        "#Actually source, cue or content and predicted as the same\n",
        "tp = 0\n",
        "#Actually O but, predicted as source, cue or content\n",
        "fp = 0\n",
        "#Actually O and predicted as the same\n",
        "tn = 0\n",
        "#Actually source, cue or content but, predicted as O\n",
        "fn = 0\n",
        "tpAR = 0\n",
        "tpARList = []\n",
        "total = len(f2)\n",
        "current_fp_fn =0\n",
        "exact_sent_cnt =-1\n",
        "senCount = -1\n",
        "arSenIds = []\n",
        "allZero = True\n",
        "allZeroSenID = []\n",
        "attriSenID = []\n",
        "allZeroMatched = -1\n",
        "total = len(f2)\n",
        "for index in range(1, total):\n",
        "    i = f2[index]\n",
        "    if (i == \"==============================\\n\"):\n",
        "        senCount += 1\n",
        "        new_fp_fn_cnt = fp + fn\n",
        "        if (new_fp_fn_cnt == current_fp_fn):\n",
        "            if allZero == True:\n",
        "                allZeroMatched += 1\n",
        "                if senCount>0:\n",
        "                    allZeroSenID.append(senCount)  \n",
        "            else:\n",
        "                allZero = True\n",
        "                if senCount>0:\n",
        "                    attriSenID.append(senCount)\n",
        "            exact_sent_cnt+=1\n",
        "            if senCount>0:\n",
        "                arSenIds.append(senCount)\n",
        "        current_fp_fn = new_fp_fn_cnt\n",
        "        continue\n",
        "    tok = i.split('@#armo')\n",
        "    try:\n",
        "        actual = tok[1].strip()\n",
        "        predicted = tok[2][1:-2].strip()\n",
        "        if actual == 'O':\n",
        "            if actual == predicted:\n",
        "                tn += 1\n",
        "#                 tnList.append(i)\n",
        "            else:\n",
        "                fp += 1\n",
        "#                 fpList.append(i)\n",
        "        else:\n",
        "            allZero = False\n",
        "            if actual == predicted:\n",
        "                tp += 1\n",
        "#                 tpList.append(i)\n",
        "            else:\n",
        "                fn += 1\n",
        "#                 fnList.append(i)\n",
        "    except IndexError:\n",
        "        print(tok)\n",
        "        break   \n",
        "print(\"Total sentences= \"+str(senCount))\n",
        "print(\"Exact words match sentences =\"+str(exact_sent_cnt))\n",
        "print(\"Exact matching sentences Id list\")\n",
        "print(arSenIds[0:20])\n",
        "print (\"Number of sentences with all O = \"+str(allZeroMatched))\n",
        "print(\"All O sentence IDs\")\n",
        "print(allZeroSenID[0:10])\n",
        "print(\"Attribution relations sentence IDs\")\n",
        "print(attriSenID[0:10])"
      ]
    },
    {
      "cell_type": "code",
      "source": [
        "# Creating confusion matrix\n",
        "import numpy as np\n",
        "conf = np.zeros((4,4))\n",
        "total = len(f2)\n",
        "for index in range(1, total):\n",
        "    i = f2[index]\n",
        "    if (i == \"==============================\\n\"):\n",
        "        continue\n",
        "    tok = i.split('@#armo')\n",
        "    try:\n",
        "        actual = tok[1].strip()\n",
        "        predicted = tok[2][1:-2].strip()\n",
        "        \n",
        "        if actual == 'source':\n",
        "            if actual == predicted:\n",
        "                conf[0][0] += 1\n",
        "            elif predicted == 'cue':\n",
        "                conf[1][0] += 1\n",
        "            elif predicted == 'content':\n",
        "                conf[2][0] += 1\n",
        "            else:\n",
        "                conf[3][0] += 1\n",
        "        if actual == 'cue':\n",
        "            if actual == predicted:\n",
        "                conf[1][1] += 1\n",
        "            elif predicted == 'source':\n",
        "                conf[0][1] += 1\n",
        "            elif predicted == 'content':\n",
        "                conf[2][1] += 1\n",
        "            else:\n",
        "                conf[3][1] += 1\n",
        "        if actual == 'content':\n",
        "            if actual == predicted:\n",
        "                conf[2][2] += 1\n",
        "            elif predicted == 'source':\n",
        "                conf[0][2] += 1\n",
        "            elif predicted == 'cue':\n",
        "                conf[1][2] += 1\n",
        "            else:\n",
        "                conf[3][2] += 1\n",
        "        if actual == 'O':\n",
        "            if actual == predicted:\n",
        "                conf[3][3] += 1\n",
        "            elif predicted == 'source':\n",
        "                conf[0][3] += 1\n",
        "            elif predicted == 'cue':\n",
        "                conf[1][3] += 1\n",
        "            else:\n",
        "                conf[2][3] += 1\n",
        "\n",
        "    except IndexError:\n",
        "        print(tok)\n",
        "        break \n",
        "print(conf) "
      ],
      "metadata": {
        "id": "qL1bJ9aSk0Fk",
        "colab": {
          "base_uri": "https://localhost:8080/"
        },
        "outputId": "48dc633d-8730-46a1-d23a-f41c57100468"
      },
      "execution_count": 108,
      "outputs": [
        {
          "output_type": "stream",
          "name": "stdout",
          "text": [
            "[[ 4813.    51.   180.   777.]\n",
            " [   36.  2631.   294.   658.]\n",
            " [  192.   253. 32324.  3322.]\n",
            " [  543.   783.  3123. 22319.]]\n"
          ]
        }
      ]
    },
    {
      "cell_type": "code",
      "source": [
        "# Token-wise performance\n",
        "y_true = []\n",
        "y_pred = []\n",
        "total = len(f2)\n",
        "for index in range(1, total):\n",
        "    i = f2[index]\n",
        "    if (i == \"==============================\\n\"):\n",
        "        continue\n",
        "    tok = i.split('@#armo')\n",
        "    actual = tok[1].strip()\n",
        "    predicted = tok[2][1:-2].strip() \n",
        "    y_true.append(actual)\n",
        "    y_pred.append(predicted)\n",
        "print(classification_report(y_true, y_pred))"
      ],
      "metadata": {
        "colab": {
          "base_uri": "https://localhost:8080/"
        },
        "id": "m_upOByOLVMg",
        "outputId": "3f6135fb-193d-41ba-f695-4ed97fa0cf56"
      },
      "execution_count": 109,
      "outputs": [
        {
          "output_type": "stream",
          "name": "stdout",
          "text": [
            "              precision    recall  f1-score   support\n",
            "\n",
            "           O       0.83      0.82      0.83     27076\n",
            "     content       0.90      0.90      0.90     35921\n",
            "         cue       0.73      0.71      0.72      3718\n",
            "      source       0.83      0.86      0.84      5584\n",
            "\n",
            "    accuracy                           0.86     72299\n",
            "   macro avg       0.82      0.82      0.82     72299\n",
            "weighted avg       0.86      0.86      0.86     72299\n",
            "\n"
          ]
        }
      ]
    },
    {
      "cell_type": "code",
      "source": [],
      "metadata": {
        "id": "B8JAafb8TaYy"
      },
      "execution_count": null,
      "outputs": []
    }
  ],
  "metadata": {
    "colab": {
      "collapsed_sections": [],
      "provenance": [],
      "include_colab_link": true
    },
    "kernelspec": {
      "display_name": "Python 2",
      "language": "python",
      "name": "python2"
    },
    "language_info": {
      "codemirror_mode": {
        "name": "ipython",
        "version": 2
      },
      "file_extension": ".py",
      "mimetype": "text/x-python",
      "name": "python",
      "nbconvert_exporter": "python",
      "pygments_lexer": "ipython2",
      "version": "2.7.15"
    },
    "accelerator": "GPU"
  },
  "nbformat": 4,
  "nbformat_minor": 0
}